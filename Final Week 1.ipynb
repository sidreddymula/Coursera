{
 "cells": [
  {
   "cell_type": "markdown",
   "metadata": {},
   "source": [
    "# Applied Data Science Capstone Project - Week One"
   ]
  },
  {
   "cell_type": "markdown",
   "metadata": {},
   "source": [
    "## Problem Description\n",
    "What is the Problem?\n",
    "-- My best friend consults me on the optimal location of the restaurant in New York city. And she wants to know what is the most welcomed type of restaurant in NY and what are the top five highly rated of cuisines in the existing restaurants. She hopes me provide a detailed report on why the location I choose is the best and how to get a start on it and what needs to be prepared for it."
   ]
  },
  {
   "cell_type": "markdown",
   "metadata": {},
   "source": [
    "## Original Discussion"
   ]
  },
  {
   "cell_type": "markdown",
   "metadata": {},
   "source": [
    "#### -- 1.We need to set up standards to measure the optimal location such as traffic convenience, customer density, or distance to the materials. We need to collect related data and upgrade them.\n",
    "#### -- 2.We also need to eplore the data, and figure out what is the most optimal restaurant in NY and most welcomed cuisines. These are necessary elements we need to know. So we need to collect the ratings about the whole restaurant in NY and their cuisines' ratings.\n",
    "#### -- 3.We can choose some machine learning methods such as decision tree to decide what is the optimal location, and do some exploratory analysis to help us to do the decision."
   ]
  },
  {
   "cell_type": "markdown",
   "metadata": {},
   "source": [
    "## Data Description"
   ]
  },
  {
   "cell_type": "markdown",
   "metadata": {},
   "source": [
    "#### What We can collect right now?"
   ]
  },
  {
   "cell_type": "markdown",
   "metadata": {},
   "source": [
    "##\n",
    "- Borough, Neighborhood, Longitude and Latitude of New York dataset, used for clustering New York and easy to locate in.\n",
    "- Venues info called by Foursquare API, used for getting the details of venues to set up standards.\n",
    "- Venues Recommendations Data, used for getting recommended venues near the current location.\n",
    "- Venues Selection, used for reporting the selection of a venue as the result of a search, explore, or suggesting completion request.\n",
    "- Venues Trending, used for returning a list of venues near the current location with the most people currently checked in.\n",
    "- Like a Venue, use\n",
    "In this lab, we will learn *k*-means clustering with 3 examples:\n",
    "- *k*-means on a randomly generated dataset.\n",
    "- Using *k*-means for customer segmentation."
   ]
  }
 ],
 "metadata": {
  "kernelspec": {
   "display_name": "Python 3",
   "language": "python",
   "name": "python3"
  },
  "language_info": {
   "codemirror_mode": {
    "name": "ipython",
    "version": 3
   },
   "file_extension": ".py",
   "mimetype": "text/x-python",
   "name": "python",
   "nbconvert_exporter": "python",
   "pygments_lexer": "ipython3",
   "version": "3.6.6"
  }
 },
 "nbformat": 4,
 "nbformat_minor": 2
}
